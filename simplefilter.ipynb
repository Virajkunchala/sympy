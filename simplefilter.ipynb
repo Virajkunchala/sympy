{
 "cells": [
  {
   "cell_type": "code",
   "execution_count": 1,
   "id": "2076a365",
   "metadata": {},
   "outputs": [],
   "source": [
    "# pip install sympy"
   ]
  },
  {
   "cell_type": "code",
   "execution_count": 2,
   "id": "06b1a9ff",
   "metadata": {},
   "outputs": [],
   "source": [
    "import sympy as sym\n",
    "from sympy import *\n",
    "import matplotlib.pyplot as plt\n",
    "import numpy as np"
   ]
  },
  {
   "cell_type": "code",
   "execution_count": 3,
   "id": "013bacbd",
   "metadata": {},
   "outputs": [],
   "source": [
    "# 1(Two Ways of Defining Symbol Variable)\n",
    "t=Symbol('t')\n",
    "t=sym.Symbol('t')"
   ]
  },
  {
   "cell_type": "code",
   "execution_count": 4,
   "id": "f4883a6f",
   "metadata": {},
   "outputs": [
    {
     "data": {
      "text/latex": [
       "$\\displaystyle t$"
      ],
      "text/plain": [
       "t"
      ]
     },
     "execution_count": 4,
     "metadata": {},
     "output_type": "execute_result"
    }
   ],
   "source": [
    "#2\n",
    "S(t)\n",
    "expr=S(t)\n",
    "simplify(expr)"
   ]
  },
  {
   "cell_type": "code",
   "execution_count": 5,
   "id": "13882eda",
   "metadata": {},
   "outputs": [
    {
     "data": {
      "text/plain": [
       "S"
      ]
     },
     "execution_count": 5,
     "metadata": {},
     "output_type": "execute_result"
    }
   ],
   "source": [
    "#2\n",
    "S = sym.Function('S')\n",
    "S"
   ]
  },
  {
   "cell_type": "code",
   "execution_count": 6,
   "id": "49b179d5",
   "metadata": {},
   "outputs": [],
   "source": [
    "# from sympy import *\n",
    "# t=symbols('t')\n",
    "# S=2*t\n",
    "# S.subs(t,1)"
   ]
  },
  {
   "cell_type": "code",
   "execution_count": 7,
   "id": "6804aefe",
   "metadata": {},
   "outputs": [
    {
     "name": "stdout",
     "output_type": "stream",
     "text": [
      "0 0\n",
      "1.41869446892560 1\n",
      "3.05758573979806 2\n",
      "4.91375253702080 3\n",
      "6.97806212543045 4\n",
      "9.23428261428039 5\n",
      "11.6582199079856 6\n",
      "14.2169063419199 7\n",
      "16.8678715936907 8\n",
      "19.5585298567450 9\n",
      "22.2257203868188 10\n",
      "24.7954412514946 11\n",
      "27.1828182845905 12\n",
      "29.2923527140516 13\n",
      "31.0184915283335 14\n",
      "32.2465641984391 15\n",
      "32.8541277031706 16\n",
      "32.7127587358389 17\n",
      "31.6903273280568 18\n",
      "29.6537797463937 19\n",
      "26.4724502523501 20\n",
      "22.0219110395120 21\n",
      "16.1883572778199 22\n",
      "8.87350964529578 23\n"
     ]
    }
   ],
   "source": [
    "for x in range(0,24):\n",
    "    t=symbols('t')\n",
    "    # t=10\n",
    "    S = Function('S')\n",
    "    S=10*exp(t/12)*sin(pi*t/24)\n",
    "    print(N(S.subs(t,x)),x)\n",
    "#     S.subs(t,x)"
   ]
  },
  {
   "cell_type": "code",
   "execution_count": 8,
   "id": "b27cd5b1",
   "metadata": {},
   "outputs": [
    {
     "data": {
      "text/latex": [
       "$\\displaystyle 10 e^{\\frac{t}{12}} \\sin^{2}{\\left(\\frac{\\pi t}{24} \\right)}$"
      ],
      "text/plain": [
       "10*exp(t/12)*sin(pi*t/24)**2"
      ]
     },
     "execution_count": 8,
     "metadata": {},
     "output_type": "execute_result"
    }
   ],
   "source": [
    "S=10*exp(t/12)*sin(pi*t/24)**2\n",
    "S"
   ]
  },
  {
   "cell_type": "code",
   "execution_count": 9,
   "id": "dc225be4",
   "metadata": {},
   "outputs": [
    {
     "data": {
      "text/latex": [
       "$\\displaystyle 0.791361421493619$"
      ],
      "text/plain": [
       "0.791361421493619"
      ]
     },
     "execution_count": 9,
     "metadata": {},
     "output_type": "execute_result"
    }
   ],
   "source": [
    "# 3\n",
    "# n is the last number from Student Number i,e 0690732 (n=t)\n",
    "S=10*exp(t/12)*sin(pi*t/24)**2\n",
    "# giving the last digit of student number i,e 2\n",
    "result=N(S.subs(t,2))\n",
    "result"
   ]
  },
  {
   "cell_type": "code",
   "execution_count": 10,
   "id": "d8932b69",
   "metadata": {},
   "outputs": [
    {
     "data": {
      "text/latex": [
       "$\\displaystyle 0.791361421493619$"
      ],
      "text/plain": [
       "0.791361421493619"
      ]
     },
     "execution_count": 10,
     "metadata": {},
     "output_type": "execute_result"
    }
   ],
   "source": [
    "# Second way to Solve (1.3) i,e Above Question \n",
    "S.evalf(subs={t:2})\n"
   ]
  },
  {
   "cell_type": "code",
   "execution_count": 11,
   "id": "4067eb00",
   "metadata": {},
   "outputs": [
    {
     "data": {
      "image/png": "[encoded data removed]",
      "text/plain": [
       "<Figure size 432x288 with 1 Axes>"
      ]
     },
     "metadata": {
      "needs_background": "light"
     },
     "output_type": "display_data"
    }
   ],
   "source": [
    "# 4 S(t) During 24 Hours Period\n",
    "result=[]\n",
    "tr=np.arange(0, 24, 1)\n",
    "for x in range(0,24):\n",
    "    t = symbols('t')\n",
    "    S=10*exp(t/12)*sin(pi*t/24)**2\n",
    "    res=N(S.subs(t,x))\n",
    "    result.append(res)\n",
    "#     print(res)\n",
    "plt.plot(tr,result)\n",
    "plt.xlabel(\"Time\")\n",
    "plt.ylabel(\" Transcription Rate S(t)\")\n",
    "plt.grid()\n",
    "plt.show()"
   ]
  },
  {
   "cell_type": "code",
   "execution_count": 12,
   "id": "816ea3ba",
   "metadata": {},
   "outputs": [
    {
     "name": "stdout",
     "output_type": "stream",
     "text": [
      "At 14 Hour the Transcription Rate is Reached Peak\n"
     ]
    }
   ],
   "source": [
    "# 2.1\n",
    "print(\"At 14 Hour the Transcription Rate is Reached Peak\")"
   ]
  },
  {
   "cell_type": "code",
   "execution_count": 13,
   "id": "43ec57a0",
   "metadata": {},
   "outputs": [
    {
     "data": {
      "text/latex": [
       "$\\displaystyle 10 e^{\\frac{t}{12}} \\sin^{2}{\\left(\\frac{\\pi t}{24} \\right)}$"
      ],
      "text/plain": [
       "10*exp(t/12)*sin(pi*t/24)**2"
      ]
     },
     "execution_count": 13,
     "metadata": {},
     "output_type": "execute_result"
    }
   ],
   "source": [
    "# 2.2\n",
    "peak=10*exp(t/12)*sin(pi*t/24)**2\n",
    "peak"
   ]
  },
  {
   "cell_type": "code",
   "execution_count": 14,
   "id": "c4f239dd",
   "metadata": {},
   "outputs": [
    {
     "data": {
      "text/plain": [
       "array([0, 0.863389783951152, 1.72677956790230, 2.59016935185346,\n",
       "       3.45355913580461, 4.31694891975576, 5.18033870370691,\n",
       "       6.04372848765807, 6.90711827160922, 7.77050805556037,\n",
       "       8.63389783951152, 9.49728762346268, 10.3606774074138,\n",
       "       11.2240671913650, 12.0874569753161, 12.9508467592673,\n",
       "       13.8142365432184, 14.6776263271696, 15.5410161111207,\n",
       "       16.4044058950719, 17.2677956790230, 18.1311854629742,\n",
       "       18.9945752469254, 19.8579650308765], dtype=object)"
      ]
     },
     "execution_count": 14,
     "metadata": {},
     "output_type": "execute_result"
    }
   ],
   "source": [
    "m=tr/res\n",
    "m\n"
   ]
  },
  {
   "cell_type": "code",
   "execution_count": 15,
   "id": "c32b8bba",
   "metadata": {},
   "outputs": [
    {
     "data": {
      "text/plain": [
       "array([0, 1.00000000000000, 2.00000000000000, 3.00000000000000,\n",
       "       4.00000000000000, 5.00000000000000, 6.00000000000000,\n",
       "       7.00000000000000, 8.00000000000000, 9.00000000000000,\n",
       "       10.0000000000000, 11.0000000000000, 12.0000000000000,\n",
       "       13.0000000000000, 14.0000000000000, 15.0000000000000,\n",
       "       16.0000000000000, 17.0000000000000, 18.0000000000000,\n",
       "       19.0000000000000, 20.0000000000000, 21.0000000000000,\n",
       "       22.0000000000000, 23.0000000000000], dtype=object)"
      ]
     },
     "execution_count": 15,
     "metadata": {},
     "output_type": "execute_result"
    }
   ],
   "source": [
    "tr1=res*m\n",
    "tr1"
   ]
  },
  {
   "cell_type": "code",
   "execution_count": 16,
   "id": "02f85871",
   "metadata": {},
   "outputs": [],
   "source": [
    "# From sympy.calculus.util import *\n",
    "# f = (x**3 / 3) - (2 * x**2) - 3 * x + 1\n",
    "# ivl = Interval(0,3)\n",
    "# print(minimum(f, x, ivl))\n",
    "# print(maximum(f, x, ivl))\n",
    "# print(stationary_points(f, x, ivl))"
   ]
  },
  {
   "cell_type": "code",
   "execution_count": 17,
   "id": "a3937f16",
   "metadata": {},
   "outputs": [],
   "source": [
    "# y(t) = x(t)β + ε(t)"
   ]
  },
  {
   "cell_type": "code",
   "execution_count": 18,
   "id": "1af11f78",
   "metadata": {},
   "outputs": [],
   "source": [
    "#  from sympy import *\n",
    "\n",
    "# i, n, x, y = symbols(\"i, n, x, y\",real=True)\n",
    "# y = Function('y')(i)\n",
    "# x = Function('x')(i)\n",
    "# eq= 1/n *summation(x, (i, 1, 24))\n",
    "# expand(eq)\n",
    "# # Sum(x, (i, 0, N)) + Sum(y(i), (i, 0, N))\n",
    "# # solve(summation(x, (i, 0, N)) + summation(y(i), (i, 0, N)), x)\n",
    "# # [Sum(-y(i), (i, 0, N))/(N + 1)]"
   ]
  },
  {
   "cell_type": "code",
   "execution_count": null,
   "id": "98d71bcc",
   "metadata": {},
   "outputs": [],
   "source": []
  },
  {
   "cell_type": "code",
   "execution_count": null,
   "id": "68d50c24",
   "metadata": {},
   "outputs": [],
   "source": []
  },
  {
   "cell_type": "code",
   "execution_count": 19,
   "id": "55c50e5f",
   "metadata": {},
   "outputs": [],
   "source": [
    "# y=Symbol('y')\n",
    "# y=max(result)\n",
    "# print(y=x**2)"
   ]
  },
  {
   "cell_type": "code",
   "execution_count": null,
   "id": "5d92ed75",
   "metadata": {},
   "outputs": [],
   "source": []
  },
  {
   "cell_type": "code",
   "execution_count": 20,
   "id": "c6726cee",
   "metadata": {},
   "outputs": [],
   "source": [
    "# max_y[0]= max(result)  # Find the maximum y value\n",
    "# max_x = x[result.index(max_y[0])]  # Find the x value corresponding to the maximum y value\n",
    "# print(max_x, max_y[0])"
   ]
  },
  {
   "cell_type": "code",
   "execution_count": 21,
   "id": "6c501870",
   "metadata": {},
   "outputs": [],
   "source": [
    "# from sympy.calculus.util import *\n",
    "# # f = (x**3 / 3) - (2 * x**2) - 3 * x + 1\n",
    "# tr=Symbol(\"tr\")\n",
    "# tr=np.arange(0,24,1)\n",
    "# ivl = Interval(13,16)\n",
    "# print(minimum(peak, tr, ivl))\n",
    "# print(N(maximum(peak, tr, ivl)))\n",
    "# print(stationary_points(peak, tr, ivl))"
   ]
  },
  {
   "cell_type": "code",
   "execution_count": 22,
   "id": "dfe24347",
   "metadata": {},
   "outputs": [
    {
     "data": {
      "text/plain": [
       "[0,\n",
       " 0.185176786952507,\n",
       " 0.791361421493619,\n",
       " 1.88041168665979,\n",
       " 3.48903106271522,\n",
       " 5.62147508013972,\n",
       " 8.24360635350064,\n",
       " 11.2790301349698,\n",
       " 14.6080053079101,\n",
       " 18.0697254206577,\n",
       " 21.4683973295077,\n",
       " 24.5833128142906,\n",
       " 27.1828182845905,\n",
       " 29.0417525758956,\n",
       " 29.9615620597460,\n",
       " 29.7919406567491,\n",
       " 28.4525092101238,\n",
       " 25.9527764132191,\n",
       " 22.4084453516903,\n",
       " 18.0520773339245,\n",
       " 13.2362251261751,\n",
       " 8.42742050383913,\n",
       " 4.18985517242378,\n",
       " 1.15822542562836]"
      ]
     },
     "execution_count": 22,
     "metadata": {},
     "output_type": "execute_result"
    }
   ],
   "source": [
    "result"
   ]
  },
  {
   "cell_type": "code",
   "execution_count": 23,
   "id": "2dffcc9b",
   "metadata": {},
   "outputs": [],
   "source": [
    "import numpy as np\n",
    "# stdev=np.std(res)"
   ]
  },
  {
   "cell_type": "code",
   "execution_count": 24,
   "id": "2f005190",
   "metadata": {},
   "outputs": [],
   "source": [
    "# pip install lmfit"
   ]
  },
  {
   "cell_type": "code",
   "execution_count": 25,
   "id": "76de0d87",
   "metadata": {},
   "outputs": [],
   "source": [
    "# sym.Interval(13,15)\n",
    "# from sympy import symbols\n",
    "# from sympy import plot\n"
   ]
  },
  {
   "cell_type": "code",
   "execution_count": 26,
   "id": "6af4b829",
   "metadata": {},
   "outputs": [
    {
     "name": "stdout",
     "output_type": "stream",
     "text": [
      "[[Model]]\n",
      "    Model(gaussian)\n",
      "[[Fit Statistics]]\n",
      "    # fitting method   = leastsq\n",
      "    # function evals   = 43\n",
      "    # data points      = 24\n",
      "    # variables        = 3\n",
      "    chi-square         = 33.0768183\n",
      "    reduced chi-square = 1.57508659\n",
      "    Akaike info crit   = 13.6986925\n",
      "    Bayesian info crit = 17.2328540\n",
      "[[Variables]]\n",
      "    amplitude:  358.258157 +/- 6.37888463 (1.78%) (init = 29.96156)\n",
      "    center:     13.8804994 +/- 0.09471044 (0.68%) (init = 11.5)\n",
      "    sigma:      4.65848792 +/- 0.09787323 (2.10%) (init = 6.922187)\n",
      "    fwhm:       10.9699005 +/- 0.23047385 (2.10%) == '2.3548200*sigma'\n",
      "    height:     30.6804129 +/- 0.53997440 (1.76%) == '0.3989423*amplitude/max(1e-15, sigma)'\n",
      "[[Correlations]] (unreported correlations are < 0.100)\n",
      "    C(amplitude, sigma) = 0.600\n"
     ]
    },
    {
     "data": {
      "image/png": "[encoded data removed]",
      "text/plain": [
       "<Figure size 432x288 with 1 Axes>"
      ]
     },
     "metadata": {
      "needs_background": "light"
     },
     "output_type": "display_data"
    }
   ],
   "source": [
    "import numpy as np\n",
    "from lmfit.models import GaussianModel\n",
    "\n",
    "ydata = np.array(result, dtype=float)\n",
    "xdata = np.array(tr, dtype=float)\n",
    "\n",
    "gmodel = GaussianModel()\n",
    "params = gmodel.make_params(amplitude=ydata.max(),\n",
    "                            center=xdata.mean(),\n",
    "                            sigma=xdata.std())\n",
    "result = gmodel.fit(ydata, params, x=xdata)\n",
    "\n",
    "print(result.fit_report())\n",
    "plt.scatter(xdata,ydata,label='data points')\n",
    "plt.plot(xdata, result.best_fit, 'r-')\n",
    "plt.show()"
   ]
  },
  {
   "cell_type": "code",
   "execution_count": 27,
   "id": "9b86a070",
   "metadata": {},
   "outputs": [],
   "source": [
    "\n",
    "# sym_x = sym.symbols('x', real=True)\n",
    "# sym_f = peak(sym_x, *rest)\n",
    "# sym_df = sym_f.diff()\n",
    "# solns = sympy.solve(sym_df)  # returns [3.0]"
   ]
  },
  {
   "cell_type": "code",
   "execution_count": 44,
   "id": "55a90b2a",
   "metadata": {},
   "outputs": [
    {
     "data": {
      "text/latex": [
       "$\\displaystyle \\frac{15 e^{\\frac{4}{3}}}{2}$"
      ],
      "text/plain": [
       "15*exp(4/3)/2"
      ]
     },
     "execution_count": 44,
     "metadata": {},
     "output_type": "execute_result"
    }
   ],
   "source": [
    "#2.3\n",
    "peak_res=peak.subs(t,16)\n",
    "peak_res"
   ]
  },
  {
   "cell_type": "code",
   "execution_count": 29,
   "id": "e8bdb3ab",
   "metadata": {},
   "outputs": [
    {
     "name": "stdout",
     "output_type": "stream",
     "text": [
      "29.9615620597460\n",
      "From the Answer 2.1 at 14 Hr the transciption Rate is almost Similar\n"
     ]
    }
   ],
   "source": [
    "#2.4 Calculating Numerical value\n",
    "print(N(peak_res))\n",
    "print(\"From the Answer 2.1 at 16 Hr the transciption Rate is almost Similar\")"
   ]
  },
  {
   "cell_type": "code",
   "execution_count": 30,
   "id": "8d9f69e1",
   "metadata": {},
   "outputs": [
    {
     "data": {
      "text/latex": [
       "$\\displaystyle \\int\\limits_{2}^{16} 10 e^{\\frac{t}{12}} \\sin^{2}{\\left(\\frac{\\pi t}{24} \\right)}\\, dt$"
      ],
      "text/plain": [
       "Integral(10*exp(t/12)*sin(pi*t/24)**2, (t, 2, 16))"
      ]
     },
     "execution_count": 30,
     "metadata": {},
     "output_type": "execute_result"
    }
   ],
   "source": [
    "# 3.1 Symbolic Integral \n",
    "Ii = Integral(peak,(t, 2, 16))\n",
    "Ii"
   ]
  },
  {
   "cell_type": "code",
   "execution_count": 31,
   "id": "bfa2f016",
   "metadata": {},
   "outputs": [],
   "source": [
    "# peak=10*exp(t/12)*sin(pi*t/24)**2\n",
    "# peak=(10*exp(14/12)*sin(pi*14/24)**2)\n",
    "# peak"
   ]
  },
  {
   "cell_type": "code",
   "execution_count": 32,
   "id": "3c84e1e0",
   "metadata": {},
   "outputs": [],
   "source": [
    "# peak_numeric=N(10*exp(14/12)*sin(pi*14/24)**2)\n",
    "# peak_numeric"
   ]
  },
  {
   "cell_type": "code",
   "execution_count": 33,
   "id": "dd80f43d",
   "metadata": {},
   "outputs": [
    {
     "data": {
      "text/latex": [
       "$\\displaystyle - \\frac{60 \\pi^{2} \\left(\\frac{\\sqrt{2}}{4} + \\frac{\\sqrt{6}}{4}\\right)^{2} e^{\\frac{1}{6}}}{1 + \\pi^{2}} - \\frac{60 \\pi^{2} \\left(- \\frac{\\sqrt{2}}{4} + \\frac{\\sqrt{6}}{4}\\right)^{2} e^{\\frac{1}{6}}}{1 + \\pi^{2}} - \\frac{120 \\left(- \\frac{\\sqrt{2}}{4} + \\frac{\\sqrt{6}}{4}\\right)^{2} e^{\\frac{1}{6}}}{1 + \\pi^{2}} + \\frac{120 \\pi \\left(- \\frac{\\sqrt{2}}{4} + \\frac{\\sqrt{6}}{4}\\right) \\left(\\frac{\\sqrt{2}}{4} + \\frac{\\sqrt{6}}{4}\\right) e^{\\frac{1}{6}}}{1 + \\pi^{2}} + \\frac{90 e^{\\frac{4}{3}}}{1 + \\pi^{2}} + \\frac{30 \\sqrt{3} \\pi e^{\\frac{4}{3}}}{1 + \\pi^{2}} + \\frac{60 \\pi^{2} e^{\\frac{4}{3}}}{1 + \\pi^{2}}$"
      ],
      "text/plain": [
       "-60*pi**2*(sqrt(2)/4 + sqrt(6)/4)**2*exp(1/6)/(1 + pi**2) - 60*pi**2*(-sqrt(2)/4 + sqrt(6)/4)**2*exp(1/6)/(1 + pi**2) - 120*(-sqrt(2)/4 + sqrt(6)/4)**2*exp(1/6)/(1 + pi**2) + 120*pi*(-sqrt(2)/4 + sqrt(6)/4)*(sqrt(2)/4 + sqrt(6)/4)*exp(1/6)/(1 + pi**2) + 90*exp(4/3)/(1 + pi**2) + 30*sqrt(3)*pi*exp(4/3)/(1 + pi**2) + 60*pi**2*exp(4/3)/(1 + pi**2)"
      ]
     },
     "execution_count": 33,
     "metadata": {},
     "output_type": "execute_result"
    }
   ],
   "source": [
    "# 3.2\n",
    "Ii.doit()"
   ]
  },
  {
   "cell_type": "code",
   "execution_count": 45,
   "id": "3da603a1",
   "metadata": {},
   "outputs": [
    {
     "data": {
      "text/latex": [
       "$\\displaystyle 1920.58991335364$"
      ],
      "text/plain": [
       "1920.58991335364"
      ]
     },
     "execution_count": 45,
     "metadata": {},
     "output_type": "execute_result"
    }
   ],
   "source": [
    "# 3.2\n",
    "y=N(integrate(Ii,(t,8,16)))\n",
    "y"
   ]
  },
  {
   "cell_type": "code",
   "execution_count": 35,
   "id": "d4af8893",
   "metadata": {},
   "outputs": [],
   "source": [
    "# x=symbols('x')\n",
    "# f=x\n",
    "# y=N(integrate(peak,(t,8,29)))\n",
    "# print(y)"
   ]
  },
  {
   "cell_type": "code",
   "execution_count": 36,
   "id": "16f48b12",
   "metadata": {},
   "outputs": [],
   "source": [
    "# sym.solve(peak)"
   ]
  },
  {
   "cell_type": "code",
   "execution_count": 37,
   "id": "5b056426",
   "metadata": {},
   "outputs": [],
   "source": [
    "# simplify(res)"
   ]
  },
  {
   "cell_type": "code",
   "execution_count": 38,
   "id": "092a0564",
   "metadata": {},
   "outputs": [],
   "source": [
    "# t= symbols(\"t\")\n",
    "# print(trigsimp(sin(x)**2 + cos(x)**4))\n"
   ]
  },
  {
   "cell_type": "code",
   "execution_count": 39,
   "id": "fd366d60",
   "metadata": {},
   "outputs": [],
   "source": [
    "# for t in range(0,25):\n",
    "#     print(t)"
   ]
  },
  {
   "cell_type": "code",
   "execution_count": 40,
   "id": "192b0a5b",
   "metadata": {},
   "outputs": [],
   "source": [
    "# x=3\n",
    "# trigsimp(1/sec(x))"
   ]
  },
  {
   "cell_type": "code",
   "execution_count": 41,
   "id": "96f8bfb6",
   "metadata": {},
   "outputs": [],
   "source": [
    "# xy=10*exp(t/12)sin"
   ]
  },
  {
   "cell_type": "code",
   "execution_count": 42,
   "id": "7e3e36b4",
   "metadata": {},
   "outputs": [],
   "source": [
    "# for t in range(0,25):\n",
    "#     t=Symbol('t')\n",
    "#     expr=sin(t)**2 + cos(t)**2 \n",
    "#     simplify(expr)\n",
    "#     print(simplify(expr))"
   ]
  },
  {
   "cell_type": "code",
   "execution_count": 43,
   "id": "9d41107f",
   "metadata": {},
   "outputs": [],
   "source": [
    "# expr = sin(x)**6\n",
    "# expr.rewrite(sin, exp).expand().rewrite(exp, sin).simplify()"
   ]
  },
  {
   "cell_type": "code",
   "execution_count": null,
   "id": "1bd8accf",
   "metadata": {},
   "outputs": [],
   "source": []
  }
 ],
 "metadata": {
  "kernelspec": {
   "display_name": "Python 3 (ipykernel)",
   "language": "python",
   "name": "python3"
  },
  "language_info": {
   "codemirror_mode": {
    "name": "ipython",
    "version": 3
   },
   "file_extension": ".py",
   "mimetype": "text/x-python",
   "name": "python",
   "nbconvert_exporter": "python",
   "pygments_lexer": "ipython3",
   "version": "3.9.8"
  }
 },
 "nbformat": 4,
 "nbformat_minor": 5
}
